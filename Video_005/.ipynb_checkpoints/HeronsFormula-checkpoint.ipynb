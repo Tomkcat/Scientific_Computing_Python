{
 "cells": [
  {
   "cell_type": "markdown",
   "metadata": {
    "slideshow": {
     "slide_type": "slide"
    }
   },
   "source": [
    "# Introduction to Scientific Computation Using Python\n",
    "\n",
    "by [Arun Prasaad Gunasekaran](https://arunprasaad2711.github.io)\n",
    "\n",
    "Video 5 : Area of a Triangle using Heron Formula."
   ]
  },
  {
   "cell_type": "markdown",
   "metadata": {
    "slideshow": {
     "slide_type": "slide"
    }
   },
   "source": [
    "## Table of Contents\n",
    "<!-- TOC -->\n",
    "\n",
    "- [Introduction to Scientific Computation Using Python](#introduction-to-scientific-computation-using-python)\n",
    "  - [Table of Contents](#table-of-contents)\n",
    "  - [Area of a Triangle](#area-of-a-triangle)\n",
    "  - [Interactive animation using Geogebra](#interactive-animation-using-geogebra)\n",
    "  - [Program](#program)\n",
    "  - [Output](#output)\n",
    "\n",
    "<!-- /TOC -->"
   ]
  },
  {
   "cell_type": "markdown",
   "metadata": {
    "slideshow": {
     "slide_type": "slide"
    }
   },
   "source": [
    "## Area of a Triangle\n",
    "\n",
    "A triangle has many formulae to find its area. One formulae that involves only the sides of the triangle is the Heron's formula or the Hero's formula.\n",
    "\n",
    "If $a$, $b$, and $c$ are the sides of a triangle ABC, then the area of the triangle $\\Delta$ is given by\n",
    "\n",
    "$$\\Delta = \\sqrt{s(s-a)(s-b)(s-c)}$$\n",
    "\n",
    "where $s = \\displaystyle{\\frac{a + b + c}{2}}$ is the semi-perimeter of the triangle."
   ]
  },
  {
   "cell_type": "markdown",
   "metadata": {
    "slideshow": {
     "slide_type": "slide"
    }
   },
   "source": [
    "## Interactive animation using Geogebra\n",
    "\n",
    "<iframe scrolling=\"no\" title=\"TaylorSeries_Demo\" src=\"https://www.geogebra.org/material/iframe/id/n4pxcth2/width/1366/height/687/border/888888/sfsb/true/smb/false/stb/false/stbh/false/ai/false/asb/false/sri/false/rc/false/ld/false/sdz/false/ctl/false\" width=\"100%\" height=\"400px\" style=\"border:0px;\"> </iframe>\n",
    "\n",
    "If interactive animation is not working, then check it out in my Geogebra Account [here](https://www.geogebra.org/m/n4pxcth2)"
   ]
  },
  {
   "cell_type": "markdown",
   "metadata": {
    "slideshow": {
     "slide_type": "slide"
    }
   },
   "source": [
    "## Program\n",
    "\n",
    "```python\n",
    "'''\n",
    "Program to calculate the area of a triangle using Heron's formulae\n",
    "'''\n",
    "\n",
    "# Get inputs\n",
    "a = float(input(\"Enter the side 'a' of the triangle:\"))\n",
    "b = float(input(\"Enter the side 'b' of the triangle:\"))\n",
    "c = float(input(\"Enter the side 'c' of the triangle:\"))\n",
    "\n",
    "# Calculate the semi-perimeter\n",
    "s = (a + b + c)*0.5\n",
    "\n",
    "# Find the Area\n",
    "Area = (s*(s-a)*(s-b)*(s-c))**0.5\n",
    "\n",
    "# Print the result\n",
    "print(\"The area of the triangle with sides a = {}, b = {}, and c = {} is {}\".format(a, b, c, Area))\n",
    "```"
   ]
  },
  {
   "cell_type": "markdown",
   "metadata": {
    "slideshow": {
     "slide_type": "slide"
    }
   },
   "source": [
    "## Output\n",
    "```\n",
    "Enter the side 'a' of the triangle:3\n",
    "Enter the side 'b' of the triangle:4\n",
    "Enter the side 'c' of the triangle:5\n",
    "The area of the triangle with sides a = 3.0, b = 4.0, and c = 5.0 is 6.0\n",
    "```"
   ]
  },
  {
   "cell_type": "code",
   "execution_count": null,
   "metadata": {},
   "outputs": [],
   "source": []
  }
 ],
 "metadata": {
  "celltoolbar": "Slideshow",
  "kernelspec": {
   "display_name": "Python 3",
   "language": "python",
   "name": "python3"
  },
  "language_info": {
   "codemirror_mode": {
    "name": "ipython",
    "version": 3
   },
   "file_extension": ".py",
   "mimetype": "text/x-python",
   "name": "python",
   "nbconvert_exporter": "python",
   "pygments_lexer": "ipython3",
   "version": "3.7.3"
  }
 },
 "nbformat": 4,
 "nbformat_minor": 2
}
