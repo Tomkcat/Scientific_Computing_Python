{
 "cells": [
  {
   "cell_type": "markdown",
   "metadata": {
    "slideshow": {
     "slide_type": "slide"
    }
   },
   "source": [
    "# Introduction to Scientific Computation Using Python\n",
    "\n",
    "by [Arun Prasaad Gunasekaran](https://arunprasaad2711.github.io)"
   ]
  },
  {
   "cell_type": "markdown",
   "metadata": {
    "slideshow": {
     "slide_type": "slide"
    }
   },
   "source": [
    "## Table of Contents\n",
    "\n",
    "<!-- TOC -->\n",
    "\n",
    "- [Introduction to Scientific Computation Using Python](#introduction-to-scientific-computation-using-python)\n",
    "  - [Table of Contents](#table-of-contents)\n",
    "  - [What is this playlist about?](#what-is-this-playlist-about)\n",
    "  - [Why am I making this? - Part 1](#why-am-i-making-this---part-1)\n",
    "  - [Why am I making this? - Part 2](#why-am-i-making-this---part-2)\n",
    "  - [Reference Books](#reference-books)\n",
    "  - [Note about references](#note-about-references)\n",
    "  - [Software Requirements](#software-requirements)\n",
    "    - [My setup](#my-setup)\n",
    "  - [Idealogy](#idealogy)\n",
    "  - [We'll be dealing with](#well-be-dealing-with)\n",
    "  - [Final note before we get started,](#final-note-before-we-get-started)\n",
    "  - [Are you ready?](#are-you-ready)\n",
    "\n",
    "<!-- /TOC -->"
   ]
  },
  {
   "cell_type": "markdown",
   "metadata": {
    "slideshow": {
     "slide_type": "slide"
    }
   },
   "source": [
    "## What is this playlist about?"
   ]
  },
  {
   "cell_type": "markdown",
   "metadata": {
    "slideshow": {
     "slide_type": "fragment"
    }
   },
   "source": [
    "* A reference guide for people who wants to learn and use Python for scientific computation."
   ]
  },
  {
   "cell_type": "markdown",
   "metadata": {
    "slideshow": {
     "slide_type": "fragment"
    }
   },
   "source": [
    "* A personal initiative to address a lot of concepts and make programming feasible to a lot of students."
   ]
  },
  {
   "cell_type": "markdown",
   "metadata": {
    "slideshow": {
     "slide_type": "slide"
    }
   },
   "source": [
    "## Why am I making this? - Part 1"
   ]
  },
  {
   "cell_type": "markdown",
   "metadata": {
    "slideshow": {
     "slide_type": "fragment"
    }
   },
   "source": [
    "* To help people break their fear of programming."
   ]
  },
  {
   "cell_type": "markdown",
   "metadata": {
    "slideshow": {
     "slide_type": "fragment"
    }
   },
   "source": [
    "* To equip people with sufficient tools for their scientific or applicational requirements."
   ]
  },
  {
   "cell_type": "markdown",
   "metadata": {
    "slideshow": {
     "slide_type": "slide"
    }
   },
   "source": [
    "## Why am I making this? - Part 2"
   ]
  },
  {
   "cell_type": "markdown",
   "metadata": {
    "slideshow": {
     "slide_type": "fragment"
    }
   },
   "source": [
    "* A **_challenge_** to myself to write and practice code for scientific computation."
   ]
  },
  {
   "cell_type": "markdown",
   "metadata": {
    "slideshow": {
     "slide_type": "fragment"
    }
   },
   "source": [
    "* An attempt for me to go back to the basics and re-emerge to the advanced concepts with a lot of applications."
   ]
  },
  {
   "cell_type": "markdown",
   "metadata": {
    "slideshow": {
     "slide_type": "fragment"
    }
   },
   "source": [
    "* To break my fear of failure.\n"
   ]
  },
  {
   "cell_type": "markdown",
   "metadata": {
    "slideshow": {
     "slide_type": "slide"
    }
   },
   "source": [
    "## Reference Books"
   ]
  },
  {
   "cell_type": "markdown",
   "metadata": {
    "slideshow": {
     "slide_type": "fragment"
    }
   },
   "source": [
    "For now, a majority of the ideas will be inspired from the two books below:\n",
    "\n",
    "* Computational Physics - Problem Solving with Python, Third Edition, Rubin H. Landau, Manuel J, Paez, and Cristian C. Boudeianu, Wiley Publications\n",
    "* A Primer on Scientific Programming with Python, Third Edition, Hans Petter Langtangen, Springer"
   ]
  },
  {
   "cell_type": "markdown",
   "metadata": {
    "slideshow": {
     "slide_type": "slide"
    }
   },
   "source": [
    "## Note about references\n"
   ]
  },
  {
   "cell_type": "markdown",
   "metadata": {
    "slideshow": {
     "slide_type": "fragment"
    }
   },
   "source": [
    "* In the future, I'll add more references and examples.\n",
    "* You need not have the references! :D. If you have it, then its a bonus!\n",
    "* I'll provide any additional references if content were taken outside of these books."
   ]
  },
  {
   "cell_type": "markdown",
   "metadata": {
    "slideshow": {
     "slide_type": "slide"
    }
   },
   "source": [
    "## Software Requirements"
   ]
  },
  {
   "cell_type": "markdown",
   "metadata": {
    "slideshow": {
     "slide_type": "fragment"
    }
   },
   "source": [
    "* Must have a working installation of Python 3 installed in Windows/Linux/MacOS.\n",
    "\n",
    "**Personal Recommendation**: Python from [Anaconda/Miniconda](https://www.anaconda.com/distribution/) or from Python from [Enthought Canopy](https://www.enthought.com/product/canopy/) Distributions.\n",
    "\n",
    "These distributions of python are designed specifically for scientific computation and have a collection of many commonly used packages and software at your disposal.\n",
    "\n",
    "* One good Interactive Development Environment (IDE) for coding.\n",
    "\n",
    "**Personal Recommendation**: [Spyder](https://www.spyder-ide.org/), [Pycharm](https://www.jetbrains.com/pycharm/)"
   ]
  },
  {
   "cell_type": "markdown",
   "metadata": {
    "slideshow": {
     "slide_type": "fragment"
    }
   },
   "source": [
    "### My setup\n",
    "\n",
    "* Linux - Ubuntu 18.04 LTS 64-bit\n",
    "* Python - Anaconda Python Distribution - Python 3.7+\n",
    "* IDE - PyCharm"
   ]
  },
  {
   "cell_type": "markdown",
   "metadata": {
    "slideshow": {
     "slide_type": "slide"
    }
   },
   "source": [
    "## Idealogy"
   ]
  },
  {
   "cell_type": "markdown",
   "metadata": {
    "slideshow": {
     "slide_type": "skip"
    }
   },
   "source": [
    "```sequence\n",
    "Science->Scientific Programming: Laws, Rules, Applications\n",
    "Mathematics->Scientific Programming: Laws, Techniques\n",
    "Computer Science->Scientific Programming: Algorithms, Software\n",
    "```"
   ]
  },
  {
   "cell_type": "markdown",
   "metadata": {
    "slideshow": {
     "slide_type": "fragment"
    }
   },
   "source": [
    "![Idealogy: Scientific Programming is an Amalgamation of Science, Mathematics, and Computer Science](flowchart.png)"
   ]
  },
  {
   "cell_type": "markdown",
   "metadata": {
    "slideshow": {
     "slide_type": "slide"
    }
   },
   "source": [
    "## We'll be dealing with"
   ]
  },
  {
   "cell_type": "markdown",
   "metadata": {
    "slideshow": {
     "slide_type": "fragment"
    }
   },
   "source": [
    "* Data Visualisation,\n",
    "* Making simple models,\n",
    "* Running simulations,\n",
    "* Numerical Experiments,\n",
    "* Analysis of Experimental data,\n",
    "* Inferences from the data"
   ]
  },
  {
   "cell_type": "markdown",
   "metadata": {
    "slideshow": {
     "slide_type": "slide"
    }
   },
   "source": [
    "## Final note before we get started,"
   ]
  },
  {
   "cell_type": "markdown",
   "metadata": {
    "slideshow": {
     "slide_type": "fragment"
    }
   },
   "source": [
    "* Do experiment!\n",
    "* Point-out mistakes if I made!\n",
    "* Feel free to give suggestions (I'll try my best to incorporate them)"
   ]
  },
  {
   "cell_type": "markdown",
   "metadata": {
    "slideshow": {
     "slide_type": "slide"
    }
   },
   "source": [
    "## Are you ready?"
   ]
  },
  {
   "cell_type": "markdown",
   "metadata": {
    "slideshow": {
     "slide_type": "fragment"
    }
   },
   "source": [
    "Let's start then! :D\n"
   ]
  }
 ],
 "metadata": {
  "celltoolbar": "Slideshow",
  "kernelspec": {
   "display_name": "Python 3",
   "language": "python",
   "name": "python3"
  },
  "language_info": {
   "codemirror_mode": {
    "name": "ipython",
    "version": 3
   },
   "file_extension": ".py",
   "mimetype": "text/x-python",
   "name": "python",
   "nbconvert_exporter": "python",
   "pygments_lexer": "ipython3",
   "version": "3.7.3"
  }
 },
 "nbformat": 4,
 "nbformat_minor": 4
}
