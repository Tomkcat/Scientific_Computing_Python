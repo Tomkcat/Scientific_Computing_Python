{
 "cells": [
  {
   "cell_type": "code",
   "execution_count": 1,
   "metadata": {
    "collapsed": true,
    "slideshow": {
     "slide_type": "skip"
    }
   },
   "outputs": [],
   "source": [
    "from IPython.display import HTML\n",
    "from IPython.display import Image"
   ]
  },
  {
   "cell_type": "markdown",
   "metadata": {
    "slideshow": {
     "slide_type": "slide"
    }
   },
   "source": [
    "# Introduction to Scientific Computation Using Python\n",
    "\n",
    "by [Arun Prasaad Gunasekaran](https://arunprasaad2711.github.io)\n",
    "\n",
    "Video 2 : Meta Information and Basics"
   ]
  },
  {
   "cell_type": "markdown",
   "metadata": {
    "slideshow": {
     "slide_type": "slide"
    }
   },
   "source": [
    "## Table of Contents\n",
    "<!-- TOC -->\n",
    "\n",
    "- [Introduction to Scientific Computation Using Python](#introduction-to-scientific-computation-using-python)\n",
    "  - [Table of Contents](#table-of-contents)\n",
    "  - [Benefits of these Videos](#benefits-of-these-videos)\n",
    "  - [Why Python? - Funny Note](#why-python---funny-note)\n",
    "  - [Why Python? - Serious note](#why-python---serious-note)\n",
    "  - [Is Python absolutely advantageous?](#is-python-absolutely-advantageous)\n",
    "  - [Different Versions of Python](#different-versions-of-python)\n",
    "    - [Python 2 - Legacy](#python-2---legacy)\n",
    "    - [Python 3 - Future](#python-3---future)\n",
    "  - [So, what to look for in any programming language?](#so-what-to-look-for-in-any-programming-language)\n",
    "  - [Program to ask the name, temperature, and rainfall of a place and print it](#program-to-ask-the-name-temperature-and-rainfall-of-a-place-and-print-it)\n",
    "  - [Comments and Docstrings](#comments-and-docstrings)\n",
    "  - [Input Command](#input-command)\n",
    "\n",
    "<!-- /TOC -->"
   ]
  },
  {
   "cell_type": "markdown",
   "metadata": {
    "slideshow": {
     "slide_type": "skip"
    }
   },
   "source": [
    "## Benefits of these Videos"
   ]
  },
  {
   "cell_type": "markdown",
   "metadata": {
    "slideshow": {
     "slide_type": "skip"
    }
   },
   "source": [
    "* **Short term benefits:**\n",
    "    * Useful for Assignments\n",
    "    * Learning programming in a simpler way\n",
    "    * Serves as an Icebreak to smoothen the class-to-research/application transition\n",
    "    * Gaining comfort and confidence\n",
    "    * Have a tool to solve simple and complex problems"
   ]
  },
  {
   "cell_type": "markdown",
   "metadata": {
    "slideshow": {
     "slide_type": "skip"
    }
   },
   "source": [
    "* **Long term benefits:**\n",
    "    * Skills are directly applicable in research\n",
    "    * Helpful to cut-down pre-research timing (Finding fixes, looking for solutions etc.,)\n",
    "    * You have a solid foundation to proceed further\n",
    "    * You can almost all the fundamental tools\n",
    "    \n",
    "All the examples here are chosen carefully so that you all get a broad exposure to a variety of programming tools and useful functions and libraries."
   ]
  },
  {
   "cell_type": "markdown",
   "metadata": {
    "slideshow": {
     "slide_type": "skip"
    }
   },
   "source": [
    "## Why Python? - Funny Note"
   ]
  },
  {
   "cell_type": "markdown",
   "metadata": {
    "slideshow": {
     "slide_type": "skip"
    }
   },
   "source": [
    "<img src=\"images/python.png\" height=\"300\" width=\"300\">\n",
    "\n",
    "Source: http://xkcd.com/353/"
   ]
  },
  {
   "cell_type": "markdown",
   "metadata": {
    "slideshow": {
     "slide_type": "slide"
    }
   },
   "source": [
    "## Why Python? - Serious note\n",
    "\n",
    "* Free, open source, cross platform\n",
    "* __Object Oriented__, __modern__, **interpreted** Programming Language\n",
    "* Very flexible and has a wide variety of features\n",
    "* Little overhead and pre-requisite\n",
    "* Easy access to work with Unix/Linux Shells\n",
    "* One great choice to learn programming from scratch to advanced levels\n",
    "* Very friendly, **intuitive** and **humane**\n",
    "* Can combine this with other programming languages\n",
    "* Plotting and visualization tools (1D, 2D, 3D) are great\n",
    "* Can be used for making GUI apps, OS, web frame works etc.,\n",
    "* Most importantly, you get to avoid **Software Piracy Issues**"
   ]
  },
  {
   "cell_type": "markdown",
   "metadata": {
    "slideshow": {
     "slide_type": "skip"
    }
   },
   "source": [
    "## Is Python absolutely advantageous?\n",
    "**No!**\n",
    "Beacuse no programming language is perfect.\n",
    "Then why to choose Python?,\n",
    "\n",
    "* You love programming in general and want to explore a lot,\n",
    "* You like the language,\n",
    "* You want to do a variety of programming with a single main language,\n",
    "    * eg: Webcrawling, Machine Learning, Data Analysis, Software development, Web development etc.,\n",
    "* Not many licensing restrictions,\n",
    "* Work demands,\n",
    "\n",
    "Bottom line : Python is good, but not undisputed.\n",
    "\n",
    "Other programming languages that are good : R, Julia, Sage, Mathematica, Maple, Matlab, Fortran, C, C++, IDL, Java, JavaScript, etc,"
   ]
  },
  {
   "cell_type": "markdown",
   "metadata": {
    "slideshow": {
     "slide_type": "skip"
    }
   },
   "source": [
    "## Different Versions of Python\n",
    "\n",
    "As of 2019, there are two versions of the Python Language: The Legacy 2.x series and the future 3.x series. Python 3.x came to existence because the founder of Python, Guido van Rossum wanted to add more features to the language. The problem was that adding those features meant dismantling the major framework of Python 2.x and rewrite a significant portion of the language. Consequently, to make sure that the already exisiting programs work well and to make sure the new features get implemented, the old version of python, namely 2.x remained as it is for backward compatibility, while the newer version of python namely 3.x has the new features added to it.\n",
    "\n",
    "The result of this decision is the exisitence of 2 distinct versions of python with a lot of similarities on the top, with many differences underneath."
   ]
  },
  {
   "cell_type": "markdown",
   "metadata": {
    "slideshow": {
     "slide_type": "slide"
    }
   },
   "source": [
    "### Python 2 - Legacy\n",
    "\n",
    "* Old version of Python\n",
    "* Legacy Codes built on it\n",
    "* No new version anymore\n",
    "* Library Migration going on\n",
    "\n",
    "### Python 3 - Future\n",
    "\n",
    "* Newer version of Python\n",
    "* The future of Python\n",
    "* Revamped internal architecture - supports future technological implementations\n",
    "* (Almost all) libraries are translated\n",
    "\n",
    "We are in the **transition** period wherein we have access to use both the versions of Python. In the future, Python 2 will be obsolete, and in this transition period, almost all the libraries are being converted from Python 2 to Python 3. Infact, new libraries are being made in Python 3 extensively.\n",
    "\n",
    "Consequently, as of 2019, Python 2.x series is stopping all major releases and releasing only sub releases for maintenance purposes. Other than that, the most active development is focussed on Python 3. The support and maintenance is only for people to transition from python 2.x to 3.x soon."
   ]
  },
  {
   "cell_type": "markdown",
   "metadata": {
    "slideshow": {
     "slide_type": "skip"
    }
   },
   "source": [
    "## About Anaconda Python Distribution\n",
    "\n",
    "* An independent Python installer - this python does not interfere with the system python\n",
    "* Maintains and installs all the requirements\n",
    "* Comes with Spyder (a MATLAB like IDE for Python), Jupyter Console (A graphics embeddable Python Terminal), IPython Terminal (A much fancier and sophisticated Python terminal), Jupyter Notebook (Web browser based GUI to do calculations, run code snippets, write notes, and to even make presentations like this one! :) )\n",
    "* Has a wide variety of pre-installed libraries\n",
    "* Has the conda installer\n",
    "\n",
    "## About Miniconda\n",
    "\n",
    "* It is a minimal version of Python Distribution (conda installer, Python , core python libraries)\n"
   ]
  },
  {
   "cell_type": "markdown",
   "metadata": {
    "slideshow": {
     "slide_type": "skip"
    }
   },
   "source": [
    "## So, what to look for in any programming language?\n",
    "\n",
    "This is a (personal) checklist to keep in mind to pick a programing language for scientific computation.\n",
    "\n",
    "- Basic data types, data conversions,\n",
    "- Machine Scalability,\n",
    "- Inter-operatability with other programming languages,\n",
    "- Variables, constants, sizes, precisions\n",
    "- Operators,\n",
    "- Input/Output statements,\n",
    "- Data formatting\n",
    "- Loops and decision making statements,\n",
    "- Advanced data types like arrays, pointers, derived data types,\n",
    "- Functions, Subroutines,\n",
    "- Handling data files,\n",
    "- Objects, classes,\n",
    "- External libraries/packages/modules\n",
    "- Executing multiple files simultaneously\n",
    "- Plotting and visualization facility,"
   ]
  },
  {
   "cell_type": "markdown",
   "metadata": {
    "collapsed": true,
    "slideshow": {
     "slide_type": "slide"
    }
   },
   "source": [
    " ## Let's write our first program"
   ]
  },
  {
   "cell_type": "markdown",
   "metadata": {
    "slideshow": {
     "slide_type": "fragment"
    }
   },
   "source": [
    "Open up a Text Editor and save a file with the extension ``.py``"
   ]
  },
  {
   "cell_type": "markdown",
   "metadata": {
    "slideshow": {
     "slide_type": "slide"
    }
   },
   "source": [
    "## Program to ask the name, temperature, and rainfall of a place and print it"
   ]
  },
  {
   "cell_type": "markdown",
   "metadata": {
    "slideshow": {
     "slide_type": "fragment"
    }
   },
   "source": [
    "```python\n",
    "\"\"\"\n",
    "Program to ask the name, temperature, and rainfall of a place and print it.\n",
    "\"\"\"\n",
    "\n",
    "# This is a variable to save the place\n",
    "place = input(\"Enter the name of the place:\")\n",
    "\n",
    "# Rainfall variable\n",
    "rainfall = input(\"Enter the rainfall recorded today in mm:\")\n",
    "\n",
    "# Temperature variable\n",
    "temperature = float(input(\"Enter the temperature recorded today in Celsius:\"))\n",
    "\n",
    "# Print statement\n",
    "print(\"In \", place, \" today it rained \", rainfall, \" mm  and the temperature is\", temperature, \" degree celsius\")\n",
    "```"
   ]
  },
  {
   "cell_type": "markdown",
   "metadata": {
    "slideshow": {
     "slide_type": "slide"
    }
   },
   "source": [
    "## Comments and Docstrings\n",
    "\n",
    "Comment - Lines that are ignored when the program is run. Used for excluding codes and for including messages.\n",
    "```python\n",
    "\n",
    "# This is a single line comment\n",
    "# Comment begins with a hash # symbol\n",
    "\n",
    "```\n",
    "Docstrings - Document strings. Multi-line comments. But more useful for including help/direction messages that appear when help utilities are called. In libraries, this is used as a documentation/help message for functions and classes.\n",
    "\n",
    "```python\n",
    "\"\"\"\n",
    "    This is a Docstring. It starts and ends with \n",
    "    triple \" or triple ' quotes. Mix and match does not work!\n",
    "\"\"\"\n",
    "\n",
    "'''\n",
    "    This is also a DocString\n",
    "'''\n",
    "```"
   ]
  },
  {
   "cell_type": "markdown",
   "metadata": {
    "slideshow": {
     "slide_type": "slide"
    }
   },
   "source": [
    "## Input Command\n",
    "\n",
    "Input command - Used for getting input from user to a variable.\n",
    "```python\n",
    "n = input('Enter the value for n') # Default string input\n",
    "n = float(input('Enter the value for n')) # Type casted input\n",
    "```\n",
    "\n",
    "* Default string input - that is, the function assumes data type to be string automatically.\n",
    "* Explicit type casting (manually changing the data type) is used to control data types."
   ]
  },
  {
   "cell_type": "code",
   "execution_count": null,
   "metadata": {},
   "outputs": [],
   "source": []
  }
 ],
 "metadata": {
  "anaconda-cloud": {},
  "celltoolbar": "Slideshow",
  "kernelspec": {
   "display_name": "Python 3",
   "language": "python",
   "name": "python3"
  },
  "language_info": {
   "codemirror_mode": {
    "name": "ipython",
    "version": 3
   },
   "file_extension": ".py",
   "mimetype": "text/x-python",
   "name": "python",
   "nbconvert_exporter": "python",
   "pygments_lexer": "ipython3",
   "version": "3.7.3"
  }
 },
 "nbformat": 4,
 "nbformat_minor": 1
}
