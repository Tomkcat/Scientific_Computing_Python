{
 "cells": [
  {
   "cell_type": "markdown",
   "metadata": {
    "slideshow": {
     "slide_type": "slide"
    }
   },
   "source": [
    "# Introduction to Scientific Computation Using Python\n",
    "\n",
    "by [Arun Prasaad Gunasekaran](https://arunprasaad2711.github.io)\n",
    "\n",
    "Video 4 : Operations Part 1"
   ]
  },
  {
   "cell_type": "markdown",
   "metadata": {
    "slideshow": {
     "slide_type": "slide"
    }
   },
   "source": [
    "## Table of Contents\n",
    "<!-- TOC -->\n",
    "\n",
    "- [Introduction to Scientific Computation Using Python](#introduction-to-scientific-computation-using-python)\n",
    "  - [Table of Contents](#table-of-contents)\n",
    "  - [Basic Arithmetic Operations in Python](#basic-arithmetic-operations-in-python)\n",
    "  - [Program to test all Basic Operations](#program-to-test-all-basic-operations)\n",
    "  - [Output](#output)\n",
    "\n",
    "<!-- /TOC -->"
   ]
  },
  {
   "cell_type": "markdown",
   "metadata": {
    "slideshow": {
     "slide_type": "slide"
    }
   },
   "source": [
    "## Basic Arithmetic Operations in Python\n",
    "\n",
    "| Operator \t|      Name      \t|  Operation \t| Example \t| Result \t|               Remark              \t|\n",
    "|:--------:\t|:--------------:\t|:----------:\t|:-------:\t|:------:\t|:---------------------------------:\t|\n",
    "|     +    \t|    Addition    \t|  ``a + b`` \t|  5 + 6  \t|   11   \t|          Normal Addition          \t|\n",
    "|     -    \t|   Subtraction  \t|  ``a - b`` \t|  5 - 6  \t|   -1   \t|         Normal Subtraction        \t|\n",
    "|     *    \t| Multiplication \t|  ``a * b`` \t|  5 * 6  \t|   30   \t|       Normal Multiplication       \t|\n",
    "|     /    \t|    Division    \t|  ``a / b`` \t|  6 / 4  \t|   1.5  \t|          Normal Division          \t|\n",
    "|    //    \t| Floor Division \t| ``a // b`` \t|  15 // 4 \t|    3   \t|  Division + removes decimal part  \t|\n",
    "|     %    \t|     Modulus    \t|  ``a % b`` \t|  22 % 4 \t|    2   \t| Returns the Remainder of Division \t|\n",
    "|    **    \t| Exponentiation \t| ``a ** b`` \t|  2 ** 4 \t|   16   \t|     Same as ``2*2*2*2``. Exponent     \t|"
   ]
  },
  {
   "cell_type": "markdown",
   "metadata": {
    "slideshow": {
     "slide_type": "slide"
    }
   },
   "source": [
    "## Program to test all Basic Operations"
   ]
  },
  {
   "cell_type": "code",
   "execution_count": 1,
   "metadata": {
    "slideshow": {
     "slide_type": "fragment"
    }
   },
   "outputs": [
    {
     "name": "stdout",
     "output_type": "stream",
     "text": [
      "a =  11  and b =  2\n",
      "a + b =  13\n",
      "a - b =  9\n",
      "a * b =  22\n",
      "a / b =  5.5\n",
      "a // b =  5\n",
      "a % b =  1\n",
      "a ** b =  121\n"
     ]
    }
   ],
   "source": [
    "a = 11\n",
    "b = 2\n",
    "\n",
    "print(\"a = \", a, \" and b = \", b)\n",
    "\n",
    "# Addition\n",
    "print(\"a + b = \", a + b)\n",
    "# Subtraction\n",
    "print(\"a - b = \", a - b)\n",
    "# Multiplication\n",
    "print(\"a * b = \", a * b)\n",
    "# Division\n",
    "print(\"a / b = \", a / b)\n",
    "# Floor Division\n",
    "print(\"a // b = \", a // b)\n",
    "# Modulus\n",
    "print(\"a % b = \", a % b)\n",
    "# Exponentiation\n",
    "print(\"a ** b = \", a ** b)"
   ]
  }
 ],
 "metadata": {
  "celltoolbar": "Slideshow",
  "kernelspec": {
   "display_name": "Python 3",
   "language": "python",
   "name": "python3"
  },
  "language_info": {
   "codemirror_mode": {
    "name": "ipython",
    "version": 3
   },
   "file_extension": ".py",
   "mimetype": "text/x-python",
   "name": "python",
   "nbconvert_exporter": "python",
   "pygments_lexer": "ipython3",
   "version": "3.7.3"
  }
 },
 "nbformat": 4,
 "nbformat_minor": 2
}
