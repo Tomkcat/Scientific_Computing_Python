{
 "cells": [
  {
   "cell_type": "code",
   "execution_count": 1,
   "metadata": {
    "collapsed": true,
    "slideshow": {
     "slide_type": "skip"
    }
   },
   "outputs": [],
   "source": [
    "from IPython.display import HTML\n",
    "from IPython.display import Image"
   ]
  },
  {
   "cell_type": "markdown",
   "metadata": {
    "slideshow": {
     "slide_type": "slide"
    }
   },
   "source": [
    "# Introduction to Scientific Computation Using Python\n",
    "\n",
    "by [Arun Prasaad Gunasekaran](https://arunprasaad2711.github.io)"
   ]
  },
  {
   "cell_type": "markdown",
   "metadata": {
    "slideshow": {
     "slide_type": "slide"
    }
   },
   "source": [
    "## Table of Contents\n",
    "\n",
    "<!-- TOC -->\n",
    "\n",
    "- [Introduction to Scientific Computation Using Python](#introduction-to-scientific-computation-using-python)\n",
    "  - [Table of Contents](#table-of-contents)\n",
    "  - [What is this playlist about?](#what-is-this-playlist-about)\n",
    "  - [Why am I making this? - Part 1](#why-am-i-making-this---part-1)\n",
    "  - [Why am I making this? - Part 2](#why-am-i-making-this---part-2)\n",
    "  - [Reference Books](#reference-books)\n",
    "  - [Note about references](#note-about-references)\n",
    "  - [Software Requirements](#software-requirements)\n",
    "    - [My setup](#my-setup)\n",
    "  - [Idealogy](#idealogy)\n",
    "  - [We'll be dealing with](#well-be-dealing-with)\n",
    "  - [Final note before we get started,](#final-note-before-we-get-started)\n",
    "  - [Are you ready?](#are-you-ready)\n",
    "\n",
    "<!-- /TOC -->"
   ]
  },
  {
   "cell_type": "markdown",
   "metadata": {
    "slideshow": {
     "slide_type": "slide"
    }
   },
   "source": [
    "## What is this playlist about?"
   ]
  },
  {
   "cell_type": "markdown",
   "metadata": {
    "slideshow": {
     "slide_type": "fragment"
    }
   },
   "source": [
    "* A reference guide for people who wants to learn and use Python for scientific computation."
   ]
  },
  {
   "cell_type": "markdown",
   "metadata": {
    "slideshow": {
     "slide_type": "fragment"
    }
   },
   "source": [
    "* A personal initiative to address a lot of concepts and make programming feasible to a lot of students."
   ]
  },
  {
   "cell_type": "markdown",
   "metadata": {
    "slideshow": {
     "slide_type": "slide"
    }
   },
   "source": [
    "## Why am I making this? - Part 1"
   ]
  },
  {
   "cell_type": "markdown",
   "metadata": {
    "slideshow": {
     "slide_type": "fragment"
    }
   },
   "source": [
    "* To help people break their fear of programming."
   ]
  },
  {
   "cell_type": "markdown",
   "metadata": {
    "slideshow": {
     "slide_type": "fragment"
    }
   },
   "source": [
    "* To equip people with sufficient tools for their scientific or engineering or mathematical requirements."
   ]
  },
  {
   "cell_type": "markdown",
   "metadata": {
    "slideshow": {
     "slide_type": "slide"
    }
   },
   "source": [
    "## Why am I making this? - Part 2"
   ]
  },
  {
   "cell_type": "markdown",
   "metadata": {
    "slideshow": {
     "slide_type": "fragment"
    }
   },
   "source": [
    "* A **_challenge_** to myself to write and practice code for scientific computation."
   ]
  },
  {
   "cell_type": "markdown",
   "metadata": {
    "slideshow": {
     "slide_type": "fragment"
    }
   },
   "source": [
    "* An attempt for me to go back to the basics and re-emerge to the advanced concepts with a lot of applications."
   ]
  },
  {
   "cell_type": "markdown",
   "metadata": {
    "slideshow": {
     "slide_type": "fragment"
    }
   },
   "source": [
    "* To break my fear of failure.\n"
   ]
  },
  {
   "cell_type": "markdown",
   "metadata": {
    "slideshow": {
     "slide_type": "slide"
    }
   },
   "source": [
    "## Reference Books"
   ]
  },
  {
   "cell_type": "markdown",
   "metadata": {
    "slideshow": {
     "slide_type": "fragment"
    }
   },
   "source": [
    "For now, a majority of the ideas will be inspired from the two books below:\n",
    "\n",
    "* Computational Physics - Problem Solving with Python, Third Edition, Rubin H. Landau, Manuel J, Paez, and Cristian C. Boudeianu, Wiley Publications\n",
    "* A Primer on Scientific Programming with Python, Third Edition, Hans Petter Langtangen, Springer"
   ]
  },
  {
   "cell_type": "markdown",
   "metadata": {
    "slideshow": {
     "slide_type": "slide"
    }
   },
   "source": [
    "## Note about references\n"
   ]
  },
  {
   "cell_type": "markdown",
   "metadata": {
    "slideshow": {
     "slide_type": "fragment"
    }
   },
   "source": [
    "* In the future, I'll add more references and examples.\n",
    "* You need not have the references! :D. If you have it, then its a bonus!\n",
    "* I'll provide any additional references if content were taken outside of these books."
   ]
  },
  {
   "cell_type": "markdown",
   "metadata": {
    "slideshow": {
     "slide_type": "slide"
    }
   },
   "source": [
    "## Software Requirements"
   ]
  },
  {
   "cell_type": "markdown",
   "metadata": {
    "slideshow": {
     "slide_type": "fragment"
    }
   },
   "source": [
    "* Must have a working installation of Python 3 installed in Windows/Linux/MacOS.\n",
    "\n",
    "**Personal Recommendation**: Python from [Anaconda/Miniconda](https://www.anaconda.com/distribution/) or from Python from [Enthought Canopy](https://www.enthought.com/product/canopy/) Distributions.\n",
    "\n",
    "These distributions of python are designed specifically for scientific computation and have a collection of many commonly used packages and software at your disposal.\n",
    "\n",
    "* One good Interactive Development Environment (IDE) for coding.\n",
    "\n",
    "**Personal Recommendation**: [Spyder](https://www.spyder-ide.org/), [Pycharm](https://www.jetbrains.com/pycharm/)"
   ]
  },
  {
   "cell_type": "markdown",
   "metadata": {
    "slideshow": {
     "slide_type": "fragment"
    }
   },
   "source": [
    "### My setup\n",
    "\n",
    "* Linux - Ubuntu 18.04 LTS 64-bit\n",
    "* Python - Anaconda Python Distribution - Python 3.7+\n",
    "* IDE - PyCharm"
   ]
  },
  {
   "cell_type": "markdown",
   "metadata": {
    "slideshow": {
     "slide_type": "slide"
    }
   },
   "source": [
    "## Ideology"
   ]
  },
  {
   "cell_type": "markdown",
   "metadata": {
    "slideshow": {
     "slide_type": "skip"
    }
   },
   "source": [
    "```sequence\n",
    "Science->Scientific Programming: Laws, Rules, Applications\n",
    "Mathematics->Scientific Programming: Laws, Techniques\n",
    "Computer Science->Scientific Programming: Algorithms, Software\n",
    "```\n",
    "\n",
    "<!-- <div class=\"diagram\">\n",
    "Science->Scientific Programming: Laws, Rules, Applications\n",
    "Mathematics->Scientific Programming: Laws, Techniques\n",
    "Computer Science->Scientific Programming: Algorithms, Software</div>\n",
    "<script>\n",
    "$(\".diagram\").sequenceDiagram({theme: 'simple'});\n",
    "</script> -->\n",
    "\n",
    "<!-- <div id=\"diagram\"></div>\n",
    "<script>\n",
    "  var diagram = Diagram.parse(\"[\\\"Science->Scientific Programming: Laws, Rules, Applications\\\" \\\"Mathematics->Scientific Programming: Laws, Techniques\\\", \\\"Computer Science->Scientific Programming: Algorithms, Software\\\"]\");\n",
    "  diagram.drawSVG(\"diagram\", {theme: 'simple'});\n",
    "</script> -->\n",
    "\n",
    "<!-- <div class=\"diagram\">A->B: Message</div>\n",
    "<script>\n",
    "  var options = {theme: 'simple'};\n",
    "  $(\".diagram\").sequenceDiagram(options);\n",
    "</script> -->"
   ]
  },
  {
   "cell_type": "markdown",
   "metadata": {
    "slideshow": {
     "slide_type": "fragment"
    }
   },
   "source": [
    "![Idealogy: Scientific Programming is an Amalgamation of Science, Mathematics, and Computer Science](flowchart.png)"
   ]
  },
  {
   "cell_type": "markdown",
   "metadata": {
    "slideshow": {
     "slide_type": "slide"
    }
   },
   "source": [
    "## We'll be dealing with"
   ]
  },
  {
   "cell_type": "markdown",
   "metadata": {
    "slideshow": {
     "slide_type": "fragment"
    }
   },
   "source": [
    "* Data Visualisation,\n",
    "* Making simple models,\n",
    "* Running simulations,\n",
    "* Numerical Experiments,\n",
    "* Analysis of Experimental data,\n",
    "* Inferences from the data"
   ]
  },
  {
   "cell_type": "markdown",
   "metadata": {
    "slideshow": {
     "slide_type": "slide"
    }
   },
   "source": [
    "## Final note before we get started,"
   ]
  },
  {
   "cell_type": "markdown",
   "metadata": {
    "slideshow": {
     "slide_type": "fragment"
    }
   },
   "source": [
    "* Do experiment!\n",
    "* Point-out mistakes if I made!\n",
    "* Feel free to give suggestions (I'll try my best to incorporate them)"
   ]
  },
  {
   "cell_type": "markdown",
   "metadata": {
    "slideshow": {
     "slide_type": "slide"
    }
   },
   "source": [
    "## Are you ready?"
   ]
  },
  {
   "cell_type": "markdown",
   "metadata": {
    "slideshow": {
     "slide_type": "fragment"
    }
   },
   "source": [
    "Let's start then! :D"
   ]
  },
  {
   "cell_type": "markdown",
   "metadata": {
    "slideshow": {
     "slide_type": "skip"
    }
   },
   "source": [
    "## Benefits of these Videos"
   ]
  },
  {
   "cell_type": "markdown",
   "metadata": {
    "slideshow": {
     "slide_type": "skip"
    }
   },
   "source": [
    "* **Short term benefits:**\n",
    "    * Useful for Assignments\n",
    "    * Learning programming in a simpler way\n",
    "    * Serves as an Icebreak to smoothen the class-to-research/application transition\n",
    "    * Gaining comfort and confidence\n",
    "    * Have a tool to solve simple and complex problems"
   ]
  },
  {
   "cell_type": "markdown",
   "metadata": {
    "slideshow": {
     "slide_type": "skip"
    }
   },
   "source": [
    "* **Long term benefits:**\n",
    "    * Skills are directly applicable in research\n",
    "    * Helpful to cut-down pre-research timing (Finding fixes, looking for solutions etc.,)\n",
    "    * You have a solid foundation to proceed further\n",
    "    * You can almost all the fundamental tools\n",
    "    \n",
    "All the examples here are chosen carefully so that you all get a broad exposure to a variety of programming tools and useful functions and libraries."
   ]
  },
  {
   "cell_type": "markdown",
   "metadata": {
    "slideshow": {
     "slide_type": "skip"
    }
   },
   "source": [
    "## Why Python? - Funny Note"
   ]
  },
  {
   "cell_type": "markdown",
   "metadata": {
    "slideshow": {
     "slide_type": "skip"
    }
   },
   "source": [
    "<img src=\"images/python.png\" height=\"300\" width=\"300\">\n",
    "\n",
    "Source: http://xkcd.com/353/"
   ]
  },
  {
   "cell_type": "markdown",
   "metadata": {
    "slideshow": {
     "slide_type": "slide"
    }
   },
   "source": [
    "## Why Python? - Serious note\n",
    "\n",
    "* Free, open source, cross platform\n",
    "* __Object Oriented__, __modern__, **interpreted** Programming Language\n",
    "* Very flexible and has a wide variety of features\n",
    "* Little overhead and pre-requisite\n",
    "* Easy access to work with Unix/Linux Shells\n",
    "* One great choice to learn programming from scratch to advanced levels\n",
    "* Very friendly, **intuitive** and **humane**\n",
    "* Can combine this with other programming languages\n",
    "* Plotting and visualization tools (1D, 2D, 3D) are great\n",
    "* Can be used for making GUI apps, OS, web frame works etc.,\n",
    "* Most importantly, you get to avoid **Software Piracy Issues**"
   ]
  },
  {
   "cell_type": "markdown",
   "metadata": {
    "slideshow": {
     "slide_type": "skip"
    }
   },
   "source": [
    "## Is Python absolutely advantageous?\n",
    "**No!**\n",
    "Beacuse no programming language is perfect.\n",
    "Then why to choose Python?,\n",
    "\n",
    "* You love programming in general and want to explore a lot,\n",
    "* You like the language,\n",
    "* You want to do a variety of programming with a single main language,\n",
    "    * eg: Webcrawling, Machine Learning, Data Analysis, Software development, Web development etc.,\n",
    "* Not many licensing restrictions,\n",
    "* Work demands,\n",
    "\n",
    "Bottom line : Python is good, but not undisputed.\n",
    "\n",
    "Other programming languages that are good : R, Julia, Sage, Mathematica, Maple, Matlab, Fortran, C, C++, IDL, Java, JavaScript, etc,"
   ]
  },
  {
   "cell_type": "markdown",
   "metadata": {
    "slideshow": {
     "slide_type": "skip"
    }
   },
   "source": [
    "## Different Versions of Python\n",
    "\n",
    "As of 2019, there are two versions of the Python Language: The Legacy 2.x series and the future 3.x series. Python 3.x came to existence because the founder of Python, Guido van Rossum wanted to add more features to the language. The problem was that adding those features meant dismantling the major framework of Python 2.x and rewrite a significant portion of the language. Consequently, to make sure that the already exisiting programs work well and to make sure the new features get implemented, the old version of python, namely 2.x remained as it is for backward compatibility, while the newer version of python namely 3.x has the new features added to it.\n",
    "\n",
    "The result of this decision is the exisitence of 2 distinct versions of python with a lot of similarities on the top, with many differences underneath."
   ]
  },
  {
   "cell_type": "markdown",
   "metadata": {
    "slideshow": {
     "slide_type": "slide"
    }
   },
   "source": [
    "### Python 2 - Legacy\n",
    "\n",
    "* Old version of Python\n",
    "* Legacy Codes built on it\n",
    "* No new version anymore\n",
    "* Library Migration going on\n",
    "\n",
    "### Python 3 - Future\n",
    "\n",
    "* Newer version of Python\n",
    "* The future of Python\n",
    "* Revamped internal architecture - supports future technological implementations\n",
    "* (Almost all) libraries are translated\n",
    "\n",
    "We are in the **transition** period wherein we have access to use both the versions of Python. In the future, Python 2 will be obsolete, and in this transition period, almost all the libraries are being converted from Python 2 to Python 3. Infact, new libraries are being made in Python 3 extensively.\n",
    "\n",
    "Consequently, as of 2019, Python 2.x series is stopping all major releases and releasing only sub releases for maintenance purposes. Other than that, the most active development is focussed on Python 3. The support and maintenance is only for people to transition from python 2.x to 3.x soon."
   ]
  },
  {
   "cell_type": "markdown",
   "metadata": {
    "slideshow": {
     "slide_type": "skip"
    }
   },
   "source": [
    "## About Anaconda Python Distribution\n",
    "\n",
    "* An independent Python installer - this python does not interfere with the system python\n",
    "* Maintains and installs all the requirements\n",
    "* Comes with Spyder (a MATLAB like IDE for Python), Jupyter Console (A graphics embeddable Python Terminal), IPython Terminal (A much fancier and sophisticated Python terminal), Jupyter Notebook (Web browser based GUI to do calculations, run code snippets, write notes, and to even make presentations like this one! :) )\n",
    "* Has a wide variety of pre-installed libraries\n",
    "* Has the conda installer\n",
    "\n",
    "## About Miniconda\n",
    "\n",
    "* It is a minimal version of Python Distribution (conda installer, Python , core python libraries)\n"
   ]
  },
  {
   "cell_type": "markdown",
   "metadata": {
    "slideshow": {
     "slide_type": "skip"
    }
   },
   "source": [
    "## So, what to look for in any programming language?\n",
    "\n",
    "This is a (personal) checklist to keep in mind to pick a programing language for scientific computation.\n",
    "\n",
    "- Basic data types, data conversions,\n",
    "- Machine Scalability,\n",
    "- Inter-operatability with other programming languages,\n",
    "- Variables, constants, sizes, precisions\n",
    "- Operators,\n",
    "- Input/Output statements,\n",
    "- Data formatting\n",
    "- Loops and decision making statements,\n",
    "- Advanced data types like arrays, pointers, derived data types,\n",
    "- Functions, Subroutines,\n",
    "- Handling data files,\n",
    "- Objects, classes,\n",
    "- External libraries/packages/modules\n",
    "- Executing multiple files simultaneously\n",
    "- Plotting and visualization facility,"
   ]
  },
  {
   "cell_type": "markdown",
   "metadata": {
    "collapsed": true,
    "slideshow": {
     "slide_type": "slide"
    }
   },
   "source": [
    " ## Let's write our first program"
   ]
  },
  {
   "cell_type": "markdown",
   "metadata": {
    "slideshow": {
     "slide_type": "fragment"
    }
   },
   "source": [
    "Open up a Text Editor and save a file with the extension ``.py``"
   ]
  },
  {
   "cell_type": "markdown",
   "metadata": {
    "slideshow": {
     "slide_type": "slide"
    }
   },
   "source": [
    "## Program to ask the name, temperature, and rainfall of a place and print it"
   ]
  },
  {
   "cell_type": "markdown",
   "metadata": {
    "slideshow": {
     "slide_type": "fragment"
    }
   },
   "source": [
    "```python\n",
    "\"\"\"\n",
    "Program to ask the name, temperature, and rainfall of a place and print it.\n",
    "\"\"\"\n",
    "\n",
    "# This is a variable to save the place\n",
    "place = input(\"Enter the name of the place:\")\n",
    "\n",
    "# Rainfall variable\n",
    "rainfall = input(\"Enter the rainfall recorded today in mm:\")\n",
    "\n",
    "# Temperature variable\n",
    "temperature = float(input(\"Enter the temperature recorded today in Celsius:\"))\n",
    "\n",
    "# Print statement\n",
    "print(\"In \", place, \" today it rained \", rainfall, \" mm  and the temperature is\", temperature, \" degree celsius\")\n",
    "```"
   ]
  },
  {
   "cell_type": "markdown",
   "metadata": {
    "slideshow": {
     "slide_type": "slide"
    }
   },
   "source": [
    "## Comments and Docstrings\n",
    "\n",
    "Comment - Lines that are ignored when the program is run. Used for excluding codes and for including messages.\n",
    "```python\n",
    "\n",
    "# This is a single line comment\n",
    "# Comment begins with a hash # symbol\n",
    "\n",
    "```\n",
    "Docstrings - Document strings. Multi-line comments. But more useful for including help/direction messages that appear when help utilities are called. In libraries, this is used as a documentation/help message for functions and classes.\n",
    "\n",
    "```python\n",
    "\"\"\"\n",
    "    This is a Docstring. It starts and ends with \n",
    "    triple \" or triple ' quotes. Mix and match does not work!\n",
    "\"\"\"\n",
    "\n",
    "'''\n",
    "    This is also a DocString\n",
    "'''\n",
    "```"
   ]
  },
  {
   "cell_type": "markdown",
   "metadata": {
    "slideshow": {
     "slide_type": "slide"
    }
   },
   "source": [
    "## Input Command\n",
    "\n",
    "Input command - Used for getting input from user to a variable.\n",
    "```python\n",
    "n = input('Enter the value for n') # Default string input\n",
    "n = float(input('Enter the value for n')) # Type casted input\n",
    "```\n",
    "\n",
    "* Default string input - that is, the function assumes data type to be string automatically.\n",
    "* Explicit type casting (manually changing the data type) is used to control data types."
   ]
  },
  {
   "cell_type": "markdown",
   "metadata": {
    "slideshow": {
     "slide_type": "slide"
    }
   },
   "source": [
    "## What is a data type?\n",
    "Simply put, it is the nature of the information."
   ]
  },
  {
   "cell_type": "markdown",
   "metadata": {
    "slideshow": {
     "slide_type": "slide"
    }
   },
   "source": [
    "## Primary Data Types\n",
    "\n",
    "These are the primary data types available in python\n",
    "\n",
    "```python\n",
    "i = 1 # Integer. Stores integers\n",
    "r = 5.78 # Floats. Stores numbers with decimal parts.\n",
    "c = 'h' # Characters. Stores single characters. It is a string in python.\n",
    "s = 'Strings' # Strings. Stores a series of characters\n",
    "l = True/False # Logical. Stores binary values\n",
    "cm = 6.0+5.6j  # Complex. Stores complex values\n",
    "```"
   ]
  },
  {
   "cell_type": "markdown",
   "metadata": {
    "slideshow": {
     "slide_type": "slide"
    }
   },
   "source": [
    "## String Data type\n",
    "\n",
    "Strings are long chain of letters, numbers, symbols, and special characters. You can use both single and double quotes, but must end accordingly. Use slash to place quotes if needed.\n",
    "\n",
    "In python, there is no equivalent for ``char`` type.\n",
    "\n",
    "```python\n",
    "\"Hello\", \n",
    "'Hello', \n",
    "'My name is Arun', \n",
    "\"I asked, 'what is for lunch?'\"\n",
    "'I exclaimed, \"This tree is big!\"'\n",
    "\"I used slash \\\" to type a double quote symbol\"\n",
    "```"
   ]
  },
  {
   "cell_type": "markdown",
   "metadata": {
    "slideshow": {
     "slide_type": "slide"
    }
   },
   "source": [
    "## Program to Test out different types of variables."
   ]
  },
  {
   "cell_type": "markdown",
   "metadata": {
    "slideshow": {
     "slide_type": "fragment"
    }
   },
   "source": [
    "### Code"
   ]
  },
  {
   "cell_type": "markdown",
   "metadata": {
    "slideshow": {
     "slide_type": "fragment"
    }
   },
   "source": [
    "```python\n",
    "a = 1.5     # Float/Real\n",
    "print(a, id(a), type(a))\n",
    "a = \"hello\" # String/Character\n",
    "print(a, id(a), type(a))\n",
    "a = 5       # Integer\n",
    "print(a, id(a), type(a))\n",
    "a = True    # Logical\n",
    "print(a, id(a), type(a))\n",
    "a = 6.0+7.8j    # Complex\n",
    "print(a, id(a), type(a))\n",
    "a = [7, 8.9, 10] # List\n",
    "print(a, id(a), type(a))\n",
    "a = (5.2, 4, 12) # Tuple\n",
    "print(a, id(a), type(a))\n",
    "a = {'v1': 6, 'v2' : 10} # Dictionary\n",
    "print(a, id(a), type(a))\n",
    "# Get the ASCII/unicode value of a character\n",
    "print(ord('z'))\n",
    "# Get the character for the ASCII/unicode\n",
    "print(chr(98))\n",
    "print(chr(32250))\n",
    "```"
   ]
  },
  {
   "cell_type": "markdown",
   "metadata": {
    "slideshow": {
     "slide_type": "subslide"
    }
   },
   "source": [
    "### Output"
   ]
  },
  {
   "cell_type": "markdown",
   "metadata": {
    "slideshow": {
     "slide_type": "fragment"
    }
   },
   "source": [
    "```\n",
    "1.5 140048331680624 <class 'float'>\n",
    "hello 140048284573232 <class 'str'>\n",
    "5 140048501217856 <class 'int'>\n",
    "True 140048500811040 <class 'bool'>\n",
    "(6+7.8j) 140048284294832 <class 'complex'>\n",
    "[7, 8.9, 10] 140048284073544 <class 'list'>\n",
    "(5.2, 4, 12) 140048284133416 <class 'tuple'>\n",
    "{'v1': 6, 'v2': 10} 140048284066872 <class 'dict'>\n",
    "122\n",
    "b\n",
    "緺\n",
    "```"
   ]
  },
  {
   "cell_type": "code",
   "execution_count": null,
   "metadata": {},
   "outputs": [],
   "source": []
  }
 ],
 "metadata": {
  "celltoolbar": "Slideshow",
  "kernelspec": {
   "display_name": "Python 3",
   "language": "python",
   "name": "python3"
  },
  "language_info": {
   "codemirror_mode": {
    "name": "ipython",
    "version": 3
   },
   "file_extension": ".py",
   "mimetype": "text/x-python",
   "name": "python",
   "nbconvert_exporter": "python",
   "pygments_lexer": "ipython3",
   "version": "3.7.3"
  },
  "varInspector": {
   "cols": {
    "lenName": 16,
    "lenType": 16,
    "lenVar": 40
   },
   "kernels_config": {
    "python": {
     "delete_cmd_postfix": "",
     "delete_cmd_prefix": "del ",
     "library": "var_list.py",
     "varRefreshCmd": "print(var_dic_list())"
    },
    "r": {
     "delete_cmd_postfix": ") ",
     "delete_cmd_prefix": "rm(",
     "library": "var_list.r",
     "varRefreshCmd": "cat(var_dic_list()) "
    }
   },
   "types_to_exclude": [
    "module",
    "function",
    "builtin_function_or_method",
    "instance",
    "_Feature"
   ],
   "window_display": false
  }
 },
 "nbformat": 4,
 "nbformat_minor": 4
}
