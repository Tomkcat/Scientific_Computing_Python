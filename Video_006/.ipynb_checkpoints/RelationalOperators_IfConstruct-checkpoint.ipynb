{
 "cells": [
  {
   "cell_type": "markdown",
   "metadata": {
    "slideshow": {
     "slide_type": "slide"
    }
   },
   "source": [
    "# Introduction to Scientific Computation Using Python\n",
    "\n",
    "by [Arun Prasaad Gunasekaran](https://arunprasaad2711.github.io)\n",
    "\n",
    "Video 6 : Relational Operators and If construct"
   ]
  },
  {
   "cell_type": "markdown",
   "metadata": {
    "slideshow": {
     "slide_type": "slide"
    }
   },
   "source": [
    "## Table of Contents\n",
    "\n",
    "<!-- TOC -->\n",
    "\n",
    "- [Introduction to Scientific Computation Using Python](#introduction-to-scientific-computation-using-python)\n",
    "  - [Table of Contents](#table-of-contents)\n",
    "  - [Basic Relational Operators in Python](#basic-relational-operators-in-python)\n",
    "  - [Basic Logical Operators in Python](#basic-logical-operators-in-python)\n",
    "  - [If-else construct](#if-else-construct)\n",
    "    - [Note](#note)\n",
    "  - [Updated Heron's Formula](#updated-herons-formula)\n",
    "\n",
    "<!-- /TOC -->"
   ]
  },
  {
   "cell_type": "markdown",
   "metadata": {
    "slideshow": {
     "slide_type": "slide"
    }
   },
   "source": [
    "## Basic Relational Operators in Python\n",
    "\n",
    "| Operator \t|           Name           \t|  Operation \t|                                    Remark                                    \t|\n",
    "|:--------:\t|:------------------------:\t|:----------:\t|:----------------------------------------------------------------------------:\t|\n",
    "|     <    \t|         Less than        \t|  ``a < b`` \t|         Returns ``True`` if a is less than b. Else returns ``False``.        \t|\n",
    "|    <=    \t|   Less than or Equal to  \t| ``a <= b`` \t|   Returns ``True`` if a is less than or equal to b. Else returns ``False``.  \t|\n",
    "|     >    \t|       Greater than       \t|  ``a > b`` \t|       Returns ``True`` if a is greater than b. Else returns ``False``.       \t|\n",
    "|    >=    \t| Greater than or equal to \t| ``a >= b`` \t| Returns ``True`` if a is greater than or equal to b. Else returns ``False``. \t|\n",
    "|    ==    \t|         Equal to         \t| ``a == b`` \t|         Returns ``True`` if a is equal to b. Else returns ``False``.         \t|\n",
    "|    !=    \t|       Not Equal to       \t| ``a != b`` \t|       Returns ``True`` if a is not equal to b. Else returns ``False``.       \t|\n"
   ]
  },
  {
   "cell_type": "markdown",
   "metadata": {
    "slideshow": {
     "slide_type": "slide"
    }
   },
   "source": [
    "## Basic Logical Operators in Python\n",
    "\n",
    "| Operator \t|     Name    \t|     Operation     \t|                                        Remark                                        \t|\n",
    "|:--------:\t|:-----------:\t|:-----------------:\t|:------------------------------------------------------------------------------------:\t|\n",
    "|    or    \t|  Boolean Or \t|  ``con1 or con2`` \t| Returns ``True`` if either ``con1`` or ``con2`` is ``True``. Else returns ``False``. \t|\n",
    "|    and   \t| Boolean And \t| ``con1 and con2`` \t| Returns ``True`` if both ``con1`` and ``con2`` are ``True``. Else returns ``False``. \t|\n",
    "|    not   \t| Boolean Not \t|    ``not con1``   \t|                       Returns ``True`` if ``con1`` is ``False``                      \t|"
   ]
  },
  {
   "cell_type": "markdown",
   "metadata": {
    "slideshow": {
     "slide_type": "slide"
    }
   },
   "source": [
    "## If-else construct\n",
    "\n",
    "```python\n",
    "if (condition1):\n",
    "    # statements to execute if the condition1 is true\n",
    "elif (condition2):\n",
    "    # statements to execute if the condition2 is true\n",
    "elif (condition3):\n",
    "    # statements to execute if the condition3 is true\n",
    "### More elif statements\n",
    "elif (conditionN):\n",
    "    # statements to execute if the conditionN is true\n",
    "else:\n",
    "    # statements to execute if all the N conditions fail\n",
    "```\n",
    "\n",
    "### Note\n",
    "The <key>Tabs</key> here are necessary! The tab indicates that the indended statements are a part of the construct."
   ]
  },
  {
   "cell_type": "markdown",
   "metadata": {
    "slideshow": {
     "slide_type": "slide"
    }
   },
   "source": [
    "## Updated Heron's Formula\n",
    "\n",
    "Check if the inputs actually make a valid triangle.\n",
    "\n",
    "```python\n",
    "'''\n",
    "Program to calculate the area of a triangle using Heron's formulae\n",
    "'''\n",
    "\n",
    "# Get inputs\n",
    "a = float(input(\"Enter the side 'a' of the triangle:\"))\n",
    "b = float(input(\"Enter the side 'b' of the triangle:\"))\n",
    "c = float(input(\"Enter the side 'c' of the triangle:\"))\n",
    "\n",
    "if (a <= 0.0 or b <= 0.0 or c <= 0.0):\n",
    "    print(\"Sides of a triangle can't be zero or negative!\")\n",
    "elif ( c >= a+b or b >= a+c or a >= b+c):\n",
    "    print(\"The values violate triangle inequality!\")\n",
    "else:\n",
    "    print(\"All conditions are valid!\")\n",
    "    # Calculate the semi-perimeter\n",
    "    s = (a + b + c)*0.5\n",
    "\n",
    "    # Find the Area\n",
    "    Area = (s*(s-a)*(s-b)*(s-c))**0.5\n",
    "\n",
    "    # Print the result\n",
    "    print(\"The area of the triangle with sides a = {}, b = {}, and c = {} is {}\".format(a, b, c, Area))\n",
    "```"
   ]
  }
 ],
 "metadata": {
  "celltoolbar": "Slideshow",
  "kernelspec": {
   "display_name": "Python 3",
   "language": "python",
   "name": "python3"
  },
  "language_info": {
   "codemirror_mode": {
    "name": "ipython",
    "version": 3
   },
   "file_extension": ".py",
   "mimetype": "text/x-python",
   "name": "python",
   "nbconvert_exporter": "python",
   "pygments_lexer": "ipython3",
   "version": "3.7.3"
  }
 },
 "nbformat": 4,
 "nbformat_minor": 2
}
