{
 "cells": [
  {
   "cell_type": "markdown",
   "metadata": {
    "slideshow": {
     "slide_type": "slide"
    }
   },
   "source": [
    "# Introduction to Scientific Computation Using Python\n",
    "\n",
    "by [Arun Prasaad Gunasekaran](https://arunprasaad2711.github.io)\n",
    "\n",
    "Video 3 : Primary Data Types in Python"
   ]
  },
  {
   "cell_type": "markdown",
   "metadata": {
    "slideshow": {
     "slide_type": "slide"
    }
   },
   "source": [
    "## Table of Contents\n",
    "<!-- TOC -->\n",
    "\n",
    "- [Introduction to Scientific Computation Using Python](#introduction-to-scientific-computation-using-python)\n",
    "  - [Table of Contents](#table-of-contents)\n",
    "  - [What is a data type?](#what-is-a-data-type)\n",
    "  - [Primary Data Types](#primary-data-types)\n",
    "  - [String Data type](#string-data-type)\n",
    "  - [Program to Test out different types of variables.](#program-to-test-out-different-types-of-variables)\n",
    "    - [Code](#code)\n",
    "    - [Output](#output)\n",
    "  - [Some simple data-functions](#some-simple-data-functions)\n",
    "\n",
    "<!-- /TOC -->"
   ]
  },
  {
   "cell_type": "markdown",
   "metadata": {
    "slideshow": {
     "slide_type": "slide"
    }
   },
   "source": [
    "## What is a data type?\n",
    "Simply put, it is the nature of the information."
   ]
  },
  {
   "cell_type": "markdown",
   "metadata": {
    "slideshow": {
     "slide_type": "slide"
    }
   },
   "source": [
    "## Primary Data Types\n",
    "\n",
    "These are the primary data types available in python\n",
    "\n",
    "```python\n",
    "i = 1 # Integer. Stores integers\n",
    "r = 5.78 # Floats. Stores numbers with decimal parts.\n",
    "c = 'h' # Characters. Stores single characters. It is a string in python.\n",
    "s = 'Strings' # Strings. Stores a series of characters\n",
    "l = True/False # Logical. Stores binary values\n",
    "cm = 6.0+5.6j  # Complex. Stores complex values\n",
    "```"
   ]
  },
  {
   "cell_type": "markdown",
   "metadata": {
    "slideshow": {
     "slide_type": "slide"
    }
   },
   "source": [
    "## String Data type\n",
    "\n",
    "Strings are long chain of letters, numbers, symbols, and special characters. You can use both single and double quotes, but must end accordingly. Use slash to place quotes if needed.\n",
    "\n",
    "In python, there is no equivalent for ``char`` type.\n",
    "\n",
    "```python\n",
    "\"Hello\", \n",
    "'Hello', \n",
    "'My name is Arun', \n",
    "\"I asked, 'what is for lunch?'\"\n",
    "'I exclaimed, \"This tree is big!\"'\n",
    "\"I used slash \\\" to type a double quote symbol\"\n",
    "```"
   ]
  },
  {
   "cell_type": "markdown",
   "metadata": {
    "slideshow": {
     "slide_type": "slide"
    }
   },
   "source": [
    "## Program to Test out different types of variables."
   ]
  },
  {
   "cell_type": "markdown",
   "metadata": {
    "slideshow": {
     "slide_type": "fragment"
    }
   },
   "source": [
    "### Code"
   ]
  },
  {
   "cell_type": "markdown",
   "metadata": {
    "slideshow": {
     "slide_type": "fragment"
    }
   },
   "source": [
    "```python\n",
    "a = 1.5     # Float/Real\n",
    "print(a, id(a), type(a))\n",
    "a = \"hello\" # String/Character\n",
    "print(a, id(a), type(a))\n",
    "a = 5       # Integer\n",
    "print(a, id(a), type(a))\n",
    "a = True    # Logical\n",
    "print(a, id(a), type(a))\n",
    "a = 6.0+7.8j    # Complex\n",
    "print(a, id(a), type(a))\n",
    "a = [7, 8.9, 10] # List\n",
    "print(a, id(a), type(a))\n",
    "a = (5.2, 4, 12) # Tuple\n",
    "print(a, id(a), type(a))\n",
    "a = {'v1': 6, 'v2' : 10} # Dictionary\n",
    "print(a, id(a), type(a))\n",
    "# Get the ASCII/unicode value of a character\n",
    "print(ord('z'))\n",
    "# Get the character for the ASCII/unicode\n",
    "print(chr(98))\n",
    "print(chr(32250))\n",
    "```"
   ]
  },
  {
   "cell_type": "markdown",
   "metadata": {
    "slideshow": {
     "slide_type": "subslide"
    }
   },
   "source": [
    "### Output"
   ]
  },
  {
   "cell_type": "markdown",
   "metadata": {
    "slideshow": {
     "slide_type": "fragment"
    }
   },
   "source": [
    "```\n",
    "1.5 140048331680624 <class 'float'>\n",
    "hello 140048284573232 <class 'str'>\n",
    "5 140048501217856 <class 'int'>\n",
    "True 140048500811040 <class 'bool'>\n",
    "(6+7.8j) 140048284294832 <class 'complex'>\n",
    "[7, 8.9, 10] 140048284073544 <class 'list'>\n",
    "(5.2, 4, 12) 140048284133416 <class 'tuple'>\n",
    "{'v1': 6, 'v2': 10} 140048284066872 <class 'dict'>\n",
    "122\n",
    "b\n",
    "緺\n",
    "```"
   ]
  },
  {
   "cell_type": "markdown",
   "metadata": {
    "slideshow": {
     "slide_type": "slide"
    }
   },
   "source": [
    "## Some simple data-functions"
   ]
  },
  {
   "cell_type": "markdown",
   "metadata": {
    "slideshow": {
     "slide_type": "fragment"
    }
   },
   "source": [
    "* ``id()`` : returns the memory location ID of the variable.\n",
    "* ``type()`` - returns the datatype of the variable.\n",
    "* ``ord()`` - returns the ASCII/Unicode value of the symbol.\n",
    "* ``chr()`` - returns the symbol of the ASCII/Unicode value."
   ]
  }
 ],
 "metadata": {
  "celltoolbar": "Slideshow",
  "kernelspec": {
   "display_name": "Python 3",
   "language": "python",
   "name": "python3"
  },
  "language_info": {
   "codemirror_mode": {
    "name": "ipython",
    "version": 3
   },
   "file_extension": ".py",
   "mimetype": "text/x-python",
   "name": "python",
   "nbconvert_exporter": "python",
   "pygments_lexer": "ipython3",
   "version": "3.7.3"
  }
 },
 "nbformat": 4,
 "nbformat_minor": 2
}
